{
 "cells": [
  {
   "cell_type": "code",
   "execution_count": 1,
   "metadata": {},
   "outputs": [],
   "source": [
    "import numpy as np\n",
    "from tqdm import tqdm\n",
    "import imageio\n",
    "import os\n",
    "import cv2"
   ]
  },
  {
   "cell_type": "code",
   "execution_count": 22,
   "metadata": {},
   "outputs": [],
   "source": [
    "def import_data(label_names):\n",
    "    \n",
    "    X = []\n",
    "    y_num = []\n",
    "    for label_i in range(len(label_names)):\n",
    "        fnames = os.listdir(\n",
    "            'Garbage_classification/' + label_names[label_i] + '/')\n",
    "        for file_i in tqdm(range(len(fnames))):\n",
    "            tmp_img = imageio.imread(\n",
    "                'Garbage_classification/' + \n",
    "                label_names[label_i] + '/' + \n",
    "                fnames[file_i]).astype(np.uint8)\n",
    "            tmp_img = cv2.resize(tmp_img, (150,100))\n",
    "            X.append(tmp_img.tolist())        \n",
    "            y_num.append(label_i)\n",
    "    return X, y_num"
   ]
  },
  {
   "cell_type": "code",
   "execution_count": 23,
   "metadata": {},
   "outputs": [],
   "source": [
    "label_names = ['cardboard', 'glass', 'metal', 'paper', 'plastic', 'trash']"
   ]
  },
  {
   "cell_type": "code",
   "execution_count": 27,
   "metadata": {},
   "outputs": [
    {
     "name": "stderr",
     "output_type": "stream",
     "text": [
      "100%|████████████████████████████████████████████████████████| 403/403 [00:03<00:00, 129.60it/s]\n",
      "100%|█████████████████████████████████████████████████████████| 501/501 [00:06<00:00, 78.05it/s]\n",
      "100%|█████████████████████████████████████████████████████████| 410/410 [00:04<00:00, 92.14it/s]\n",
      "100%|█████████████████████████████████████████████████████████| 594/594 [00:08<00:00, 67.51it/s]\n",
      "100%|█████████████████████████████████████████████████████████| 482/482 [00:06<00:00, 70.27it/s]\n",
      "100%|████████████████████████████████████████████████████████| 137/137 [00:01<00:00, 116.11it/s]\n"
     ]
    }
   ],
   "source": [
    "X, y = import_data(label_names)"
   ]
  },
  {
   "cell_type": "code",
   "execution_count": 30,
   "metadata": {},
   "outputs": [],
   "source": [
    "X = np.array(X).astype(np.uint8)\n",
    "y_num = np.array(y).astype(np.uint8)"
   ]
  },
  {
   "cell_type": "code",
   "execution_count": 31,
   "metadata": {},
   "outputs": [
    {
     "name": "stdout",
     "output_type": "stream",
     "text": [
      "uint8\n",
      "uint8\n"
     ]
    }
   ],
   "source": [
    "print(X.dtype)\n",
    "print(y_num.dtype)"
   ]
  },
  {
   "cell_type": "code",
   "execution_count": 39,
   "metadata": {},
   "outputs": [],
   "source": [
    "shuffle_idxs = np.random.permutation(np.arange(X.shape[0]))\n",
    "X_shuffle = X[shuffle_idxs]\n",
    "y_num_shuffle = y_num[shuffle_idxs]"
   ]
  },
  {
   "cell_type": "code",
   "execution_count": 40,
   "metadata": {},
   "outputs": [],
   "source": [
    "np.savez_compressed('garbage_data.npz', \n",
    "                   X = X_shuffle,\n",
    "                   y_num = y_num_shuffle)"
   ]
  }
 ],
 "metadata": {
  "kernelspec": {
   "display_name": "Python 3",
   "language": "python",
   "name": "python3"
  },
  "language_info": {
   "codemirror_mode": {
    "name": "ipython",
    "version": 3
   },
   "file_extension": ".py",
   "mimetype": "text/x-python",
   "name": "python",
   "nbconvert_exporter": "python",
   "pygments_lexer": "ipython3",
   "version": "3.6.8rc1"
  }
 },
 "nbformat": 4,
 "nbformat_minor": 2
}
